{
 "cells": [
  {
   "cell_type": "markdown",
   "id": "b09c89b5-2220-46c7-9cb4-5824146f4951",
   "metadata": {},
   "source": [
    "ASTEROID COLLISION - LEETCODE 735"
   ]
  },
  {
   "cell_type": "markdown",
   "id": "fd240c16-7a59-4313-aba5-7504f41f5d2b",
   "metadata": {},
   "source": [
    "We are given an array asteroids of integers representing asteroids in a row.\r\n",
    "\r\n",
    "For each asteroid, the absolute value represents its size, and the sign represents its direction (positive meaning right, negative meaning left). Each asteroid moves at the same speed.\r\n",
    "\r\n",
    "Find out the state of the asteroids after all collisions. If two asteroids meet, the smaller one will explode. If both are the same size, both will explode. Two asteroids moving in the same direction will never meet.\r\n",
    "\r\n",
    " \r\n",
    "\r\n",
    "Example 1:\r\n",
    "\r\n",
    "Input: asteroids = [5,10,-5]\r\n",
    "Output: [5,10]\r\n",
    "Explanation: The 10 and -5 collide resulting in 10. The 5 and 10 never collide.\r\n",
    "Example 2:\r\n",
    "\r\n",
    "Input: asteroids = [8,-8]\r\n",
    "Output: []\r\n",
    "Explanation: The 8 and -8 collide exploding each other.\r\n",
    "Example 3:\r\n",
    "\r\n",
    "Input: asteroids = [10,2,-5]\r\n",
    "Output: [10]\r\n",
    "Explanation: The 2 and -5 collide resulting in -5. The 10 and -5 collide resulting in 10.\r\n",
    " \r\n",
    "\r\n",
    "Constraints:\r\n",
    "\r\n",
    "2 <= asteroids.length <= 104\r\n",
    "-1000 <= asteroids[i] <= 1000\r\n",
    "asteroids[i] != 0"
   ]
  },
  {
   "cell_type": "code",
   "execution_count": 12,
   "id": "b7f8e15f-958a-44e1-a816-a75a41f20fe8",
   "metadata": {},
   "outputs": [],
   "source": [
    "from typing import List\n",
    "\n",
    "class Solution:\n",
    "    def asteroidCollision(self, asteroids: List[int]) -> List[int]:\n",
    "        stack = []\n",
    "        for a in asteroids:\n",
    "            while stack and a < 0 and stack[-1] > 0:\n",
    "                diff = a + stack[-1]\n",
    "                if diff < 0:\n",
    "                    stack.pop()\n",
    "                elif diff > 0:\n",
    "                    a = 0\n",
    "                else:\n",
    "                    a = 0\n",
    "                    stack.pop()\n",
    "            if a:\n",
    "                stack.append(a)\n",
    "        return stack\n"
   ]
  },
  {
   "cell_type": "code",
   "execution_count": null,
   "id": "7c23351e-daa0-4337-bb84-88f01d8014c6",
   "metadata": {},
   "outputs": [],
   "source": []
  }
 ],
 "metadata": {
  "kernelspec": {
   "display_name": "Python 3 (ipykernel)",
   "language": "python",
   "name": "python3"
  },
  "language_info": {
   "codemirror_mode": {
    "name": "ipython",
    "version": 3
   },
   "file_extension": ".py",
   "mimetype": "text/x-python",
   "name": "python",
   "nbconvert_exporter": "python",
   "pygments_lexer": "ipython3",
   "version": "3.11.7"
  }
 },
 "nbformat": 4,
 "nbformat_minor": 5
}
