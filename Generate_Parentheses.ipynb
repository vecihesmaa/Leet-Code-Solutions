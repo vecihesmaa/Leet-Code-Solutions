{
 "cells": [
  {
   "cell_type": "markdown",
   "id": "2185c0bb-a37b-4302-ba77-02c363af3084",
   "metadata": {},
   "source": [
    "GENERATE PARANTHESES - LEETCODE-22"
   ]
  },
  {
   "cell_type": "markdown",
   "id": "43264dd8-a139-4e17-b3b9-dab70d88a4db",
   "metadata": {},
   "source": [
    "Given n pairs of parentheses, write a function to generate all combinations of well-formed parentheses.\r\n",
    "\r\n",
    " \r\n",
    "\r\n",
    "Example 1:\r\n",
    "\r\n",
    "Input: n = 3\r\n",
    "Output: [\"((()))\",\"(()())\",\"(())()\",\"()(())\",\"()()()\"]\r\n",
    "Example 2:\r\n",
    "\r\n",
    "Input: n = 1\r\n",
    "Output: [\"()\"]\r\n",
    " \r\n",
    "\r\n",
    "Constraints:\r\n",
    "\r\n",
    "1 <= n <= 8"
   ]
  },
  {
   "cell_type": "markdown",
   "id": "ac27b994-ff63-49e0-b858-21c65149547d",
   "metadata": {},
   "source": [
    "Stack e ilk kapalı parantez ekleyemeyiz çünkğ bu akışı bozar,ilk hep açık parantez eklenicek ve açık sayısı kapalı sayısından büyük oldukça devam edicek.\n",
    "Çünkü açık parantez oldukça ondan sonra kapalı parantez gelebilir.Bize de soruda kaç tane açık parantez kullanabileceğimiz verillmiş.Açık parantez ve kapalı parantez sayısı n e ve birbirlerine eşit olduğunda işlemi bitiricez."
   ]
  },
  {
   "cell_type": "code",
   "execution_count": 8,
   "id": "1d4d922e-f8c3-4c8d-a0e1-ed7b9dd6334a",
   "metadata": {},
   "outputs": [
    {
     "name": "stdout",
     "output_type": "stream",
     "text": [
      "['((()))', '(()())', '(())()', '()(())', '()()()']\n"
     ]
    }
   ],
   "source": [
    "from typing import List\n",
    "\n",
    "class Solution:\n",
    "    def generateParenthesis(self, n: int) -> List[str]:\n",
    "        stack = []\n",
    "        res = []\n",
    "\n",
    "        def backtrack(openN, closedN):\n",
    "            if openN == closedN == n:\n",
    "                res.append(\"\".join(stack))\n",
    "                return\n",
    "            if openN < n:\n",
    "                stack.append(\"(\")\n",
    "                backtrack(openN + 1, closedN)\n",
    "                stack.pop()\n",
    "\n",
    "            if closedN < openN:\n",
    "                stack.append(\")\")\n",
    "                backtrack(openN, closedN + 1)\n",
    "                stack.pop()\n",
    "\n",
    "        backtrack(0, 0)\n",
    "        return res\n",
    "\n",
    "# Test\n",
    "solution = Solution()\n",
    "print(solution.generateParenthesis(3))\n"
   ]
  },
  {
   "cell_type": "code",
   "execution_count": null,
   "id": "aa513e3e-0a44-4a7c-a940-9d73ce68d33e",
   "metadata": {},
   "outputs": [],
   "source": []
  }
 ],
 "metadata": {
  "kernelspec": {
   "display_name": "Python 3 (ipykernel)",
   "language": "python",
   "name": "python3"
  },
  "language_info": {
   "codemirror_mode": {
    "name": "ipython",
    "version": 3
   },
   "file_extension": ".py",
   "mimetype": "text/x-python",
   "name": "python",
   "nbconvert_exporter": "python",
   "pygments_lexer": "ipython3",
   "version": "3.11.7"
  }
 },
 "nbformat": 4,
 "nbformat_minor": 5
}
