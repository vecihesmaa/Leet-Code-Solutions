{
 "cells": [
  {
   "cell_type": "markdown",
   "id": "217c0b6a-cf48-4c5e-868d-a11d2db0e5fa",
   "metadata": {},
   "source": [
    "LARGEST RECTANGLE in HISTOGRAM <= heights[i] <= 104"
   ]
  },
  {
   "cell_type": "code",
   "execution_count": 41,
   "id": "559047aa-756a-4854-8d0a-69a9a18fe840",
   "metadata": {},
   "outputs": [],
   "source": [
    "from typing import List\n",
    "\n",
    "class Solution:\n",
    "    def largestRectangleArea(self, heights: List[int]) -> int:\n",
    "        maxArea = 0\n",
    "        stack = []\n",
    "\n",
    "        for i, h in enumerate(heights):\n",
    "            start = i\n",
    "            while stack and stack[-1][1] > h:\n",
    "                index, height = stack.pop()\n",
    "                maxArea = max(maxArea, height * (i - index))\n",
    "                start = index\n",
    "            stack.append((start, h))\n",
    "        for i, h in stack:\n",
    "            maxArea = max(maxArea, h * (len(heights) - i))\n",
    "        return maxArea\n"
   ]
  },
  {
   "cell_type": "code",
   "execution_count": 42,
   "id": "7708f4d7-2adf-4b77-873d-1a062e28ec6e",
   "metadata": {},
   "outputs": [
    {
     "name": "stdout",
     "output_type": "stream",
     "text": [
      "Output: 10\n"
     ]
    }
   ],
   "source": [
    "input_heights = [2, 1, 5, 6, 2, 3]\n",
    "# Solution sınıfından bir örnek oluşturuyoruz\n",
    "solution = Solution()\n",
    "# largestRectangleArea fonksiyonunu verilen girdi ile çağırıyoruz\n",
    "output = solution.largestRectangleArea(input_heights)\n",
    "# Sonucu yazdırıyoruz\n",
    "print(\"Output:\", output)"
   ]
  },
  {
   "cell_type": "markdown",
   "id": "803288df-b911-4a6f-b648-a70dea8ec6b5",
   "metadata": {},
   "source": [
    "Time C=O(n)  Space C.=O(n)"
   ]
  }
 ],
 "metadata": {
  "kernelspec": {
   "display_name": "Python 3 (ipykernel)",
   "language": "python",
   "name": "python3"
  },
  "language_info": {
   "codemirror_mode": {
    "name": "ipython",
    "version": 3
   },
   "file_extension": ".py",
   "mimetype": "text/x-python",
   "name": "python",
   "nbconvert_exporter": "python",
   "pygments_lexer": "ipython3",
   "version": "3.11.7"
  }
 },
 "nbformat": 4,
 "nbformat_minor": 5
}
