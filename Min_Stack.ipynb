{
 "cells": [
  {
   "cell_type": "markdown",
   "id": "85d34716-0c33-4a90-b0df-3e8fa43222f1",
   "metadata": {},
   "source": [
    "155-LEETCODE-MIN STACK"
   ]
  },
  {
   "cell_type": "markdown",
   "id": "aa97d5da-dbf8-4d4c-b3ac-ddeb99400f61",
   "metadata": {},
   "source": [
    "Design a stack that supports push, pop, top, and retrieving the minimum element in constant time.\r\n",
    "\r\n",
    "Implement the MinStack class:\r\n",
    "\r\n",
    "MinStack() initializes the stack object.\r\n",
    "void push(int val) pushes the element val onto the stack.\r\n",
    "void pop() removes the element on the top of the stack.\r\n",
    "int top() gets the top element of the stack.\r\n",
    "int getMin() retrieves the minimum element in the stack.\r\n",
    "You must implement a solution with O(1) time complexity for each function.\r\n",
    "\r\n",
    " \r\n",
    "\r\n",
    "Example 1:\r\n",
    "\r\n",
    "Input\r\n",
    "[\"MinStack\",\"push\",\"push\",\"push\",\"getMin\",\"pop\",\"top\",\"getMin\"]\r\n",
    "[[],[-2],[0],[-3],[],[],[],[]]\r\n",
    "\r\n",
    "Output\r\n",
    "[null,null,null,null,-3,null,0,-2]\r\n",
    "\r\n",
    "Explanation\r\n",
    "MinStack minStack = new MinStack();\r\n",
    "minStack.push(-2);\r\n",
    "minStack.push(0);\r\n",
    "minStack.push(-3);\r\n",
    "minStack.getMin(); // return -3\r\n",
    "minStack.pop();\r\n",
    "minStack.top();    // return 0\r\n",
    "minStack.getMin(); // return -2\r\n",
    " \r\n",
    "\r\n",
    "Constraints:\r\n",
    "\r\n",
    "-231 <= val <= 231 - 1\r\n",
    "Methods pop, top and getMin operations will always be called on non-empty stacks.\r\n",
    "At most 3 * 104 calls will be made to push, pop, top, and getMin."
   ]
  },
  {
   "cell_type": "markdown",
   "id": "6f0f119b-fce8-4b56-8da4-ddd10d078f48",
   "metadata": {},
   "source": [
    "Yapmamız gereken şey aslında stackte pop,top,push fonksiyonları time c. O(1) dır fakat bizden minimum elemanı da O(1) da bulmamızı istiyorlar bunu yapmak için bir tane de mininmum elemanı tutan stack tutuyoruz ve elemanlar normal stağe eklendikçe güncel minimumu tutuyor böylece mininmuma ulaşmak istediğimizde mininmum stağinden O(1) zamanda ulaşabiliyoruz."
   ]
  },
  {
   "cell_type": "code",
   "execution_count": 7,
   "id": "d6b36041-fb18-440f-944a-63c1f0abd880",
   "metadata": {},
   "outputs": [],
   "source": [
    "class MinStack:\n",
    "    def __init__(self):\n",
    "        self.stack = []\n",
    "        self.minstack = []\n",
    "\n",
    "    def push(self, val: int) -> None:\n",
    "        self.stack.append(val)\n",
    "        val = min(val, self.minstack[-1] if self.minstack else val)\n",
    "        self.minstack.append(val)\n",
    "\n",
    "    def pop(self) -> None:\n",
    "        self.stack.pop()\n",
    "        self.minstack.pop()\n",
    "\n",
    "    def top(self) -> int:\n",
    "        return self.stack[-1]\n",
    "\n",
    "    def getMin(self) -> int:\n",
    "        return self.minstack[-1]\n",
    "\n",
    "        "
   ]
  },
  {
   "cell_type": "code",
   "execution_count": null,
   "id": "04e3571a-279a-462f-b66b-6007589e2648",
   "metadata": {},
   "outputs": [],
   "source": []
  }
 ],
 "metadata": {
  "kernelspec": {
   "display_name": "Python 3 (ipykernel)",
   "language": "python",
   "name": "python3"
  },
  "language_info": {
   "codemirror_mode": {
    "name": "ipython",
    "version": 3
   },
   "file_extension": ".py",
   "mimetype": "text/x-python",
   "name": "python",
   "nbconvert_exporter": "python",
   "pygments_lexer": "ipython3",
   "version": "3.11.7"
  }
 },
 "nbformat": 4,
 "nbformat_minor": 5
}
