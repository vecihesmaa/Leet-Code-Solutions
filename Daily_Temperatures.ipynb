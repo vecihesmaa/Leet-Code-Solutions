{
 "cells": [
  {
   "cell_type": "markdown",
   "id": "c3a1e24a-67be-46b3-9482-5fb716414972",
   "metadata": {},
   "source": [
    "Daily Temperatures-739-LeetCode"
   ]
  },
  {
   "cell_type": "markdown",
   "id": "e3542788-c98a-4bde-8a0c-d7c8aa352546",
   "metadata": {},
   "source": [
    "Given an array of integers temperatures represents the daily temperatures, return an array answer such that answer[i] is the number of days you have to wait after the ith day to get a warmer temperature. If there is no future day for which this is possible, keep answer[i] == 0 instead.\r\n",
    "\r\n",
    " \r\n",
    "\r\n",
    "Example 1:\r\n",
    "\r\n",
    "Input: temperatures = [73,74,75,71,69,72,76,73]\r\n",
    "Output: [1,1,4,2,1,1,0,0]\r\n",
    "Example 2:\r\n",
    "\r\n",
    "Input: temperatures = [30,40,50,60]\r\n",
    "Output: [1,1,1,0]\r\n",
    "Example 3:\r\n",
    "\r\n",
    "Input: temperatures = [30,60,90]\r\n",
    "Output: [1,1,0]\r\n",
    " \r\n",
    "\r\n",
    "Constraints:\r\n",
    "\r\n",
    "1 <= temperatures.length <= 105\r\n",
    "30 <= temperatures[i] <= 100"
   ]
  },
  {
   "cell_type": "code",
   "execution_count": 7,
   "id": "976892d9-0cc1-4c39-a90d-5e94d81652ea",
   "metadata": {},
   "outputs": [],
   "source": [
    "from typing import List\n",
    "\n",
    "class Solution:\n",
    "    def dailyTemperatures(self, temperatures: List[int]) -> List[int]:\n",
    "        res = [0] * len(temperatures)\n",
    "        stack = []  # pairs temperatures and index \n",
    "\n",
    "        for i, t in enumerate(temperatures):\n",
    "            while stack and t > stack[-1][0]:\n",
    "                stackT, stackInd = stack.pop()\n",
    "                res[stackInd] = (i - stackInd)\n",
    "\n",
    "            stack.append([t, i])\n",
    "        return res\n",
    "\n",
    "        "
   ]
  },
  {
   "cell_type": "code",
   "execution_count": 8,
   "id": "2b322c9a-5df4-4677-b6be-0e06323fa06c",
   "metadata": {},
   "outputs": [
    {
     "name": "stdout",
     "output_type": "stream",
     "text": [
      "Girdi Temperatures: [30, 40, 50, 60]\n",
      "Çıktı Sonuç: [1, 1, 1, 0]\n"
     ]
    }
   ],
   "source": [
    "# Örnek girdi ve çıktıyı test etmek\n",
    "solution = Solution()\n",
    "input_temperatures = [30, 40, 50, 60]\n",
    "output_result = solution.dailyTemperatures(input_temperatures)\n",
    "print(\"Girdi Temperatures:\", input_temperatures)\n",
    "print(\"Çıktı Sonuç:\", output_result)"
   ]
  },
  {
   "cell_type": "markdown",
   "id": "b2497dda-f92a-4439-8205-919c0387f92b",
   "metadata": {},
   "source": [
    "Başlangıç durumu:\r\n",
    "\r\n",
    "res = [0, 0, 0, 0]\r\n",
    "stack = []\r\n",
    "İlk adım: i = 0, t = 30, stack boş olduğu için direkt olarak stack'e [30, 0] eklenir.\r\n",
    "res = [0, 0, 0, 0]\r\n",
    "stack = [[30, 0]]\r\n",
    "İkinci adım: i = 1, t = 40, 40 > 30 olduğu için res[0] güncellenir (1 - 0 = 1) ve stack boşaltılır. Sonra stack'e [40, 1] eklenir.\r\n",
    "res = [1, 0, 0, 0]\r\n",
    "stack = [[40, 1]]\r\n",
    "Üçüncü adım: i = 2, t = 50, 50 > 40 olduğu için res[1] güncellenir (2 - 1 = 1) ve stack boşaltılır. Sonra stack'e [50, 2] eklenir.\r\n",
    "res = [1, 1, 0, 0]\r\n",
    "stack = [[50, 2]]\r\n",
    "Dördüncü adım: i = 3, t = 60, 60 > 50 olduğu için res[2] güncellenir (3 - 2 = 1) ve stack boşaltılır. Sonra stack'e [60, 3] eklenir.\r\n",
    "res = [1, 1, 1, 0]\r\n",
    "stack = [[60, 3]]\r\n",
    "Sonuç:\r\n",
    "\r\n",
    "res = [1, 1, 1, 0]"
   ]
  }
 ],
 "metadata": {
  "kernelspec": {
   "display_name": "Python 3 (ipykernel)",
   "language": "python",
   "name": "python3"
  },
  "language_info": {
   "codemirror_mode": {
    "name": "ipython",
    "version": 3
   },
   "file_extension": ".py",
   "mimetype": "text/x-python",
   "name": "python",
   "nbconvert_exporter": "python",
   "pygments_lexer": "ipython3",
   "version": "3.11.7"
  }
 },
 "nbformat": 4,
 "nbformat_minor": 5
}
