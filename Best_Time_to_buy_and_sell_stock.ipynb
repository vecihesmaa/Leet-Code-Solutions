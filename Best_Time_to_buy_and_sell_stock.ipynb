{
 "cells": [
  {
   "cell_type": "markdown",
   "id": "ccc20533-44aa-483d-b8b1-9b0304200dae",
   "metadata": {},
   "source": [
    "LEETCODE-BEST TİME TO BUY AND SELL STOCK "
   ]
  },
  {
   "cell_type": "markdown",
   "id": "193a29b5-0b0f-4616-8592-248f003686da",
   "metadata": {},
   "source": [
    "You are given an array prices where prices[i] is the price of a given stock on the ith day.\r\n",
    "\r\n",
    "You want to maximize your profit by choosing a single day to buy one stock and choosing a different day in the future to sell that stock.\r\n",
    "\r\n",
    "Return the maximum profit you can achieve from this transaction. If you cannot achieve any profit, return 0.\r\n",
    "\r\n",
    " \r\n",
    "\r\n",
    "Example 1:\r\n",
    "\r\n",
    "Input: prices = [7,1,5,3,6,4]\r\n",
    "Output: 5\r\n",
    "Explanation: Buy on day 2 (price = 1) and sell on day 5 (price = 6), profit = 6-1 = 5.\r\n",
    "Note that buying on day 2 and selling on day 1 is not allowed because you must buy before you sell."
   ]
  },
  {
   "cell_type": "markdown",
   "id": "fb9b902c-1856-498d-bcce-3fa20d5ad9bb",
   "metadata": {},
   "source": [
    "Left ve right pointer tutucaz.Left pointer satın almayı tutucak bu yüzden onu en başından,right pointer satmayı ifade edeceği için onu 1. indeksten başlatıcaz.Right-Letf=Profit bize karı vericek,kar pozitif olduğu sürece right pointerı arrttırıp daha büyük bir kar bulabilir miyiz diye bakıcaz.Eğer kar negatife düşerse left pointerı right pointerın yerine getirip right ı bir arttırmaya devam edicez.Max Profiti döndürücez."
   ]
  },
  {
   "cell_type": "code",
   "execution_count": null,
   "id": "baca5d35-4a82-43c6-a0d9-19dcba1ce783",
   "metadata": {},
   "outputs": [],
   "source": [
    "from typing import List\n",
    "class Solution:\n",
    "    def maxProfit(self, prices: List[int]) -> int:\n",
    "        l,r=0,1\n",
    "        maxP=0\n",
    "\n",
    "        while r<len(prices):\n",
    "            if prices[r]>prices[l]:\n",
    "                \n",
    "              profit=prices[r]-prices[l]\n",
    "              maxP= max(maxP,profit)\n",
    "\n",
    "            else:\n",
    "               l=r\n",
    "            r=+1\n",
    "        return maxP\n",
    "   "
   ]
  },
  {
   "cell_type": "code",
   "execution_count": null,
   "id": "c51e13ce-22dd-45ac-916e-2b8d6d385f64",
   "metadata": {},
   "outputs": [],
   "source": []
  },
  {
   "cell_type": "code",
   "execution_count": null,
   "id": "8389e627-6f39-4a31-af97-3fd3831679bb",
   "metadata": {},
   "outputs": [],
   "source": []
  },
  {
   "cell_type": "code",
   "execution_count": null,
   "id": "1d99c721-8200-41e4-8750-e5a813b5b49b",
   "metadata": {},
   "outputs": [],
   "source": []
  }
 ],
 "metadata": {
  "kernelspec": {
   "display_name": "Python 3 (ipykernel)",
   "language": "python",
   "name": "python3"
  },
  "language_info": {
   "codemirror_mode": {
    "name": "ipython",
    "version": 3
   },
   "file_extension": ".py",
   "mimetype": "text/x-python",
   "name": "python",
   "nbconvert_exporter": "python",
   "pygments_lexer": "ipython3",
   "version": "3.11.7"
  }
 },
 "nbformat": 4,
 "nbformat_minor": 5
}
