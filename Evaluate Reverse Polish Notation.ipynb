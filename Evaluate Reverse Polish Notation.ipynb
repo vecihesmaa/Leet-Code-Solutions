{
 "cells": [
  {
   "cell_type": "markdown",
   "id": "83effe43-c59c-4d1f-8f3b-5e3fa5861d05",
   "metadata": {},
   "source": [
    "Evaluate Reverse Polish Notation - LeetCode - 150"
   ]
  },
  {
   "cell_type": "markdown",
   "id": "de61fd46-ee64-490f-ae65-e345a478a892",
   "metadata": {},
   "source": [
    "You are given an array of strings tokens that represents an arithmetic expression in a Reverse Polish Notation.\r\n",
    "\r\n",
    "Evaluate the expression. Return an integer that represents the value of the expression.\r\n",
    "\r\n",
    "Note that:\r\n",
    "\r\n",
    "The valid operators are '+', '-', '*', and '/'.\r\n",
    "Each operand may be an integer or another expression.\r\n",
    "The division between two integers always truncates toward zero.\r\n",
    "There will not be any division by zero.\r\n",
    "The input represents a valid arithmetic expression in a reverse polish notation.\r\n",
    "The answer and all the intermediate calculations can be represented in a 32-bit integer.\r\n",
    " \r\n",
    "\r\n",
    "Example 1:\r\n",
    "\r\n",
    "Input: tokens = [\"2\",\"1\",\"+\",\"3\",\"*\"]\r\n",
    "Output: 9\r\n",
    "Explanation: ((2 + 1) * 3) = 9\r\n",
    "Example 2:\r\n",
    "\r\n",
    "Input: tokens = [\"4\",\"13\",\"5\",\"/\",\"+\"]\r\n",
    "Output: 6\r\n",
    "Explanation: (4 + (13 / 5)) = 6\r\n",
    "Example 3:\r\n",
    "\r\n",
    "Input: tokens = [\"10\",\"6\",\"9\",\"3\",\"+\",\"-11\",\"*\",\"/\",\"*\",\"17\",\"+\",\"5\",\"+\"]\r\n",
    "Output: 22\r\n",
    "Explanation: ((10 * (6 / ((9 + 3) * -11))) + 17) + 5\r\n",
    "= ((10 * (6 / (12 * -11))) + 17) + 5\r\n",
    "= ((10 * (6 / -132)) + 17) + 5\r\n",
    "= ((10 * 0) + 17) + 5\r\n",
    "= (0 + 17) + 5\r\n",
    "= 17 + 5\r\n",
    "= 22\r\n",
    " \r\n",
    "\r\n",
    "Constraints:\r\n",
    "\r\n",
    "1 <= tokens.length <= 104\r\n",
    "tokens[i] is either an operator: \"+\", \"-\", \"*\", or \"/\", or an integer in the range [-200, 200]."
   ]
  },
  {
   "cell_type": "code",
   "execution_count": 4,
   "id": "4ee465da-85ce-451a-9811-701b8add1ccd",
   "metadata": {},
   "outputs": [],
   "source": [
    "from typing import List\n",
    "class Solution:\n",
    "    def evalRPN(self, tokens: List[str]) -> int:\n",
    "        stack=[]\n",
    "        for c in tokens:\n",
    "            if c==\"+\":\n",
    "                stack. append(stack.pop() + stack.pop())\n",
    "            elif c==\"-\":\n",
    "                a,b=stack.pop(),stack.pop()\n",
    "                stack.append(b-a)\n",
    "            elif c==\"*\":\n",
    "                stack.append(stack.pop() * stack.pop())\n",
    "            elif c==\"/\":\n",
    "                a,b=stack.pop(),stack.pop()\n",
    "                stack. append(int(b/a))\n",
    "            else:\n",
    "                stack.append(int(c))\n",
    "        return stack[0]"
   ]
  },
  {
   "cell_type": "code",
   "execution_count": 5,
   "id": "725ec528-118f-43c9-87c0-d07d993f460f",
   "metadata": {},
   "outputs": [
    {
     "name": "stdout",
     "output_type": "stream",
     "text": [
      "11\n"
     ]
    }
   ],
   "source": [
    "tokens = [\"11\", \"7\", \"9\", \"+\", \"-11\", \"/\", \"8\", \"*\", \"17\", \"+\", \"5\", \"+\"]\n",
    "solution = Solution()\n",
    "result = solution.evalRPN(tokens)\n",
    "print(result)"
   ]
  },
  {
   "cell_type": "code",
   "execution_count": null,
   "id": "b9787bb2-5197-4848-92eb-f11b6afc8150",
   "metadata": {},
   "outputs": [],
   "source": []
  }
 ],
 "metadata": {
  "kernelspec": {
   "display_name": "Python 3 (ipykernel)",
   "language": "python",
   "name": "python3"
  },
  "language_info": {
   "codemirror_mode": {
    "name": "ipython",
    "version": 3
   },
   "file_extension": ".py",
   "mimetype": "text/x-python",
   "name": "python",
   "nbconvert_exporter": "python",
   "pygments_lexer": "ipython3",
   "version": "3.11.7"
  }
 },
 "nbformat": 4,
 "nbformat_minor": 5
}
