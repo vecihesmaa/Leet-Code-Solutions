{
 "cells": [
  {
   "cell_type": "markdown",
   "id": "eea9700e-cb42-45a8-9a56-986295b683b5",
   "metadata": {},
   "source": [
    "225. Implement Stack using Queues"
   ]
  },
  {
   "cell_type": "markdown",
   "id": "e66385be-3685-40c9-a5a5-c5c215f2d8d3",
   "metadata": {},
   "source": [
    "Implement a last-in-first-out (LIFO) stack using only two queues. The implemented stack should support all the functions of a normal stack (push, top, pop, and empty).\r\n",
    "\r\n",
    "Implement the MyStack class:\r\n",
    "\r\n",
    "void push(int x) Pushes element x to the top of the stack.\r\n",
    "int pop() Removes the element on the top of the stack and returns it.\r\n",
    "int top() Returns the element on the top of the stack.\r\n",
    "boolean empty() Returns true if the stack is empty, false otherwise.\r\n",
    "Notes:\r\n",
    "\r\n",
    "You must use only standard operations of a queue, which means that only push to back, peek/pop from front, size and is empty operations are valid.\r\n",
    "Depending on your language, the queue may not be supported natively. You may simulate a queue using a list or deque (double-ended queue) as long as you use only a queue's standard operations.\r\n",
    " \r\n",
    "\r\n",
    "Example 1:\r\n",
    "\r\n",
    "Input\r\n",
    "[\"MyStack\", \"push\", \"push\", \"top\", \"pop\", \"empty\"]\r\n",
    "[[], [1], [2], [], [], []]\r\n",
    "Output\r\n",
    "[null, null, null, 2, 2, false]\r\n",
    "\r\n",
    "Explanation\r\n",
    "MyStack myStack = new MyStack();\r\n",
    "myStack.push(1);\r\n",
    "myStack.push(2);\r\n",
    "myStack.top(); // return 2\r\n",
    "myStack.pop(); // return 2\r\n",
    "myStack.empty(); // return False\r\n",
    " \r\n",
    "\r\n",
    "Constraints:\r\n",
    "\r\n",
    "1 <= x <= 9\r\n",
    "At most 100 calls will be made to push, pop, top, and empty.\r\n",
    "All the calls to pop and top are valid."
   ]
  },
  {
   "cell_type": "code",
   "execution_count": 6,
   "id": "81ccacca-21f1-43f5-adfe-2121538c0962",
   "metadata": {},
   "outputs": [],
   "source": [
    "class Solution:\n",
    "    def __init__ (self):\n",
    "        self.q = deque()\n",
    "\n",
    "    def __init__ (self, x: int) -> None:\n",
    "        self.q.append(x)\n",
    "\n",
    "    def pop(self) -> int:\n",
    "        for i in range(len(self.q) -1):\n",
    "            self.push(self.q.popleft())\n",
    "        return self.q.popleft()\n",
    "\n",
    "    def top(self) -> int:\n",
    "        return self.q[-1]\n",
    "\n",
    "    def empty(self) -> bool:\n",
    "        return len(self,q) == 0\n",
    "        "
   ]
  },
  {
   "cell_type": "code",
   "execution_count": 7,
   "id": "7c6ef188-3ce1-4133-9601-51dbce95b50f",
   "metadata": {},
   "outputs": [],
   "source": [
    "from collections import deque\n",
    "\n",
    "class Solution:\n",
    "    def __init__(self, x=None):\n",
    "        self.q = deque()\n",
    "        if x is not None:\n",
    "            self.q.append(x)\n",
    "\n",
    "    def push(self, x: int) -> None:\n",
    "        self.q.append(x)\n",
    "\n",
    "    def pop(self) -> int:\n",
    "        for i in range(len(self.q) - 1):\n",
    "            self.push(self.q.popleft())\n",
    "        return self.q.popleft()\n",
    "\n",
    "    def top(self) -> int:\n",
    "        return self.q[-1]\n",
    "\n",
    "    def empty(self) -> bool:\n",
    "        return len(self.q) == 0\n"
   ]
  },
  {
   "cell_type": "code",
   "execution_count": 8,
   "id": "6712e0d6-0662-47ec-b45f-9dcf7b01c072",
   "metadata": {},
   "outputs": [
    {
     "name": "stdout",
     "output_type": "stream",
     "text": [
      "Top: 4\n",
      "Pop: 4\n",
      "Top: 3\n",
      "Empty: False\n"
     ]
    }
   ],
   "source": [
    "input_data = [1, 2, 3, 4]\n",
    "\n",
    "# Solution sınıfını kullanarak işlem yapalım\n",
    "solution = Solution()\n",
    "\n",
    "# Girdi verilerini Solution sınıfına ekleyelim\n",
    "for x in input_data:\n",
    "    solution.push(x)\n",
    "\n",
    "# Şimdi çeşitli işlemleri yapalım ve çıktıları alalım\n",
    "print(\"Top:\", solution.top())  # En üstteki elemanı yazdır\n",
    "print(\"Pop:\", solution.pop())  # En üstteki elemanı çıkar ve yazdır\n",
    "print(\"Top:\", solution.top())  # En üstteki elemanı yazdır\n",
    "print(\"Empty:\", solution.empty())  # Stack boş mu kontrol et ve yazdır"
   ]
  },
  {
   "cell_type": "code",
   "execution_count": null,
   "id": "08cb277c-0f80-4a09-8a86-7ace94c4fb9b",
   "metadata": {},
   "outputs": [],
   "source": []
  }
 ],
 "metadata": {
  "kernelspec": {
   "display_name": "Python 3 (ipykernel)",
   "language": "python",
   "name": "python3"
  },
  "language_info": {
   "codemirror_mode": {
    "name": "ipython",
    "version": 3
   },
   "file_extension": ".py",
   "mimetype": "text/x-python",
   "name": "python",
   "nbconvert_exporter": "python",
   "pygments_lexer": "ipython3",
   "version": "3.11.7"
  }
 },
 "nbformat": 4,
 "nbformat_minor": 5
}
